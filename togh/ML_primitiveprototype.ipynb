{
 "cells": [
  {
   "cell_type": "code",
   "execution_count": 88,
   "metadata": {},
   "outputs": [],
   "source": [
    "import matplotlib.pyplot as plt\n",
    "import numpy as np\n",
    "import pandas as pd"
   ]
  },
  {
   "cell_type": "code",
   "execution_count": 89,
   "metadata": {
    "scrolled": false
   },
   "outputs": [
    {
     "data": {
      "text/html": [
       "<div>\n",
       "<style scoped>\n",
       "    .dataframe tbody tr th:only-of-type {\n",
       "        vertical-align: middle;\n",
       "    }\n",
       "\n",
       "    .dataframe tbody tr th {\n",
       "        vertical-align: top;\n",
       "    }\n",
       "\n",
       "    .dataframe thead th {\n",
       "        text-align: right;\n",
       "    }\n",
       "</style>\n",
       "<table border=\"1\" class=\"dataframe\">\n",
       "  <thead>\n",
       "    <tr style=\"text-align: right;\">\n",
       "      <th></th>\n",
       "      <th>date</th>\n",
       "      <th>open</th>\n",
       "      <th>high</th>\n",
       "      <th>low</th>\n",
       "      <th>close</th>\n",
       "      <th>volume</th>\n",
       "      <th>ticker</th>\n",
       "      <th>Clf_Target</th>\n",
       "      <th>1day_change</th>\n",
       "      <th>2day_change</th>\n",
       "      <th>3day_change</th>\n",
       "      <th>4day_change</th>\n",
       "      <th>5day_change</th>\n",
       "      <th>ewma7</th>\n",
       "      <th>ewma50</th>\n",
       "      <th>ewma200</th>\n",
       "      <th>MACD</th>\n",
       "      <th>RSI</th>\n",
       "    </tr>\n",
       "  </thead>\n",
       "  <tbody>\n",
       "    <tr>\n",
       "      <td>0</td>\n",
       "      <td>2015-01-29</td>\n",
       "      <td>200.38</td>\n",
       "      <td>202.30</td>\n",
       "      <td>198.68</td>\n",
       "      <td>201.99</td>\n",
       "      <td>173585424</td>\n",
       "      <td>SPY</td>\n",
       "      <td>0.0</td>\n",
       "      <td>-1.85</td>\n",
       "      <td>0.75</td>\n",
       "      <td>3.46</td>\n",
       "      <td>2.98</td>\n",
       "      <td>4.11</td>\n",
       "      <td>202.607510</td>\n",
       "      <td>202.813380</td>\n",
       "      <td>202.823244</td>\n",
       "      <td>-0.051351</td>\n",
       "      <td>49.664254</td>\n",
       "    </tr>\n",
       "    <tr>\n",
       "      <td>1</td>\n",
       "      <td>2015-01-30</td>\n",
       "      <td>200.57</td>\n",
       "      <td>202.17</td>\n",
       "      <td>199.13</td>\n",
       "      <td>199.45</td>\n",
       "      <td>197729724</td>\n",
       "      <td>SPY</td>\n",
       "      <td>1.0</td>\n",
       "      <td>2.54</td>\n",
       "      <td>0.69</td>\n",
       "      <td>3.29</td>\n",
       "      <td>6.00</td>\n",
       "      <td>5.52</td>\n",
       "      <td>201.812154</td>\n",
       "      <td>202.546072</td>\n",
       "      <td>202.608549</td>\n",
       "      <td>-0.250332</td>\n",
       "      <td>44.689405</td>\n",
       "    </tr>\n",
       "    <tr>\n",
       "      <td>2</td>\n",
       "      <td>2015-02-02</td>\n",
       "      <td>200.05</td>\n",
       "      <td>202.03</td>\n",
       "      <td>197.86</td>\n",
       "      <td>201.92</td>\n",
       "      <td>163106969</td>\n",
       "      <td>SPY</td>\n",
       "      <td>1.0</td>\n",
       "      <td>-2.47</td>\n",
       "      <td>0.07</td>\n",
       "      <td>-1.78</td>\n",
       "      <td>0.82</td>\n",
       "      <td>3.53</td>\n",
       "      <td>201.839268</td>\n",
       "      <td>202.498240</td>\n",
       "      <td>202.566959</td>\n",
       "      <td>-0.243913</td>\n",
       "      <td>49.940725</td>\n",
       "    </tr>\n",
       "    <tr>\n",
       "      <td>3</td>\n",
       "      <td>2015-02-03</td>\n",
       "      <td>203.00</td>\n",
       "      <td>204.85</td>\n",
       "      <td>202.55</td>\n",
       "      <td>204.84</td>\n",
       "      <td>124212881</td>\n",
       "      <td>SPY</td>\n",
       "      <td>0.0</td>\n",
       "      <td>-2.92</td>\n",
       "      <td>-5.39</td>\n",
       "      <td>-2.85</td>\n",
       "      <td>-4.70</td>\n",
       "      <td>-2.10</td>\n",
       "      <td>202.592637</td>\n",
       "      <td>202.670737</td>\n",
       "      <td>202.697663</td>\n",
       "      <td>-0.048698</td>\n",
       "      <td>55.339046</td>\n",
       "    </tr>\n",
       "    <tr>\n",
       "      <td>4</td>\n",
       "      <td>2015-02-04</td>\n",
       "      <td>203.92</td>\n",
       "      <td>205.38</td>\n",
       "      <td>203.51</td>\n",
       "      <td>204.06</td>\n",
       "      <td>134306728</td>\n",
       "      <td>SPY</td>\n",
       "      <td>1.0</td>\n",
       "      <td>0.78</td>\n",
       "      <td>-2.14</td>\n",
       "      <td>-4.61</td>\n",
       "      <td>-2.07</td>\n",
       "      <td>-3.92</td>\n",
       "      <td>202.960644</td>\n",
       "      <td>202.769663</td>\n",
       "      <td>202.772444</td>\n",
       "      <td>0.051507</td>\n",
       "      <td>53.673969</td>\n",
       "    </tr>\n",
       "  </tbody>\n",
       "</table>\n",
       "</div>"
      ],
      "text/plain": [
       "         date    open    high     low   close     volume ticker  Clf_Target  \\\n",
       "0  2015-01-29  200.38  202.30  198.68  201.99  173585424    SPY         0.0   \n",
       "1  2015-01-30  200.57  202.17  199.13  199.45  197729724    SPY         1.0   \n",
       "2  2015-02-02  200.05  202.03  197.86  201.92  163106969    SPY         1.0   \n",
       "3  2015-02-03  203.00  204.85  202.55  204.84  124212881    SPY         0.0   \n",
       "4  2015-02-04  203.92  205.38  203.51  204.06  134306728    SPY         1.0   \n",
       "\n",
       "   1day_change  2day_change  3day_change  4day_change  5day_change  \\\n",
       "0        -1.85         0.75         3.46         2.98         4.11   \n",
       "1         2.54         0.69         3.29         6.00         5.52   \n",
       "2        -2.47         0.07        -1.78         0.82         3.53   \n",
       "3        -2.92        -5.39        -2.85        -4.70        -2.10   \n",
       "4         0.78        -2.14        -4.61        -2.07        -3.92   \n",
       "\n",
       "        ewma7      ewma50     ewma200      MACD        RSI  \n",
       "0  202.607510  202.813380  202.823244 -0.051351  49.664254  \n",
       "1  201.812154  202.546072  202.608549 -0.250332  44.689405  \n",
       "2  201.839268  202.498240  202.566959 -0.243913  49.940725  \n",
       "3  202.592637  202.670737  202.697663 -0.048698  55.339046  \n",
       "4  202.960644  202.769663  202.772444  0.051507  53.673969  "
      ]
     },
     "execution_count": 89,
     "metadata": {},
     "output_type": "execute_result"
    }
   ],
   "source": [
    "etf_all = pd.read_csv('stats_100_etfs.csv')\n",
    "etf_all.head()"
   ]
  },
  {
   "cell_type": "code",
   "execution_count": 90,
   "metadata": {},
   "outputs": [],
   "source": [
    "etf = etf_all.loc[etf_all['ticker'] == 'PYZ']"
   ]
  },
  {
   "cell_type": "code",
   "execution_count": 91,
   "metadata": {},
   "outputs": [
    {
     "name": "stdout",
     "output_type": "stream",
     "text": [
      "(1239, 4) (1239, 1)\n"
     ]
    }
   ],
   "source": [
    "X = etf[['5day_change', 'ewma7', 'ewma50', 'ewma200']]\n",
    "y = etf[['close']]\n",
    "print(X.shape, y.shape)"
   ]
  },
  {
   "cell_type": "code",
   "execution_count": 92,
   "metadata": {},
   "outputs": [],
   "source": [
    "from sklearn.model_selection import train_test_split\n",
    "\n",
    "X_train, X_test, y_train, y_test = train_test_split(X, y, random_state=42)"
   ]
  },
  {
   "cell_type": "code",
   "execution_count": 93,
   "metadata": {},
   "outputs": [],
   "source": [
    "from sklearn.preprocessing import StandardScaler\n",
    "\n",
    "# Create a StandardScater model and fit it to the training data\n",
    "\n",
    "X_scaler = StandardScaler().fit(X_train)\n",
    "y_scaler = StandardScaler().fit(y_train)\n"
   ]
  },
  {
   "cell_type": "code",
   "execution_count": 94,
   "metadata": {},
   "outputs": [],
   "source": [
    "X_train_scaled = X_scaler.transform(X_train)\n",
    "X_test_scaled = X_scaler.transform(X_test)\n",
    "y_train_scaled = y_scaler.transform(y_train)\n",
    "y_test_scaled = y_scaler.transform(y_test)"
   ]
  },
  {
   "cell_type": "code",
   "execution_count": 95,
   "metadata": {},
   "outputs": [
    {
     "name": "stdout",
     "output_type": "stream",
     "text": [
      "Training Score: 0.9977092909468206\n",
      "Testing Score: 0.9979998783554301\n"
     ]
    }
   ],
   "source": [
    "from sklearn.linear_model import LinearRegression\n",
    "model = LinearRegression()\n",
    "model.fit(X_train_scaled, y_train_scaled)\n",
    "\n",
    "training_score = model.score(X_train_scaled, y_train_scaled)\n",
    "testing_score = model.score(X_test_scaled, y_test_scaled)\n",
    "\n",
    "### END SOLUTION \n",
    "\n",
    "print(f\"Training Score: {training_score}\")\n",
    "print(f\"Testing Score: {testing_score}\")"
   ]
  },
  {
   "cell_type": "code",
   "execution_count": 96,
   "metadata": {
    "scrolled": false
   },
   "outputs": [
    {
     "data": {
      "image/png": "[encoded data removed]",
      "text/plain": [
       "<Figure size 432x288 with 1 Axes>"
      ]
     },
     "metadata": {
      "needs_background": "light"
     },
     "output_type": "display_data"
    }
   ],
   "source": [
    "predictions = model.predict(X_test_scaled)\n",
    "model.fit(X_train_scaled, y_train_scaled)\n",
    "plt.scatter(model.predict(X_train_scaled), model.predict(X_train_scaled) - y_train_scaled, c=\"blue\", label=\"Training Data\")\n",
    "plt.scatter(model.predict(X_test_scaled), model.predict(X_test_scaled) - y_test_scaled, c=\"orange\", label=\"Testing Data\")\n",
    "plt.legend()\n",
    "plt.hlines(y=0, xmin=y_test_scaled.min(), xmax=y_test_scaled.max())\n",
    "plt.title(\"Residual Plot\")\n",
    "plt.show()"
   ]
  },
  {
   "cell_type": "code",
   "execution_count": 98,
   "metadata": {},
   "outputs": [
    {
     "data": {
      "text/html": [
       "<div>\n",
       "<style scoped>\n",
       "    .dataframe tbody tr th:only-of-type {\n",
       "        vertical-align: middle;\n",
       "    }\n",
       "\n",
       "    .dataframe tbody tr th {\n",
       "        vertical-align: top;\n",
       "    }\n",
       "\n",
       "    .dataframe thead th {\n",
       "        text-align: right;\n",
       "    }\n",
       "</style>\n",
       "<table border=\"1\" class=\"dataframe\">\n",
       "  <thead>\n",
       "    <tr style=\"text-align: right;\">\n",
       "      <th></th>\n",
       "      <th>0_x</th>\n",
       "      <th>0_y</th>\n",
       "    </tr>\n",
       "  </thead>\n",
       "  <tbody>\n",
       "    <tr>\n",
       "      <td>0</td>\n",
       "      <td>-0.295457</td>\n",
       "      <td>-0.271463</td>\n",
       "    </tr>\n",
       "    <tr>\n",
       "      <td>1</td>\n",
       "      <td>-2.230634</td>\n",
       "      <td>-2.259591</td>\n",
       "    </tr>\n",
       "    <tr>\n",
       "      <td>2</td>\n",
       "      <td>-1.006618</td>\n",
       "      <td>-0.964492</td>\n",
       "    </tr>\n",
       "    <tr>\n",
       "      <td>3</td>\n",
       "      <td>0.613576</td>\n",
       "      <td>0.578942</td>\n",
       "    </tr>\n",
       "    <tr>\n",
       "      <td>4</td>\n",
       "      <td>-0.604882</td>\n",
       "      <td>-0.639635</td>\n",
       "    </tr>\n",
       "    <tr>\n",
       "      <td>...</td>\n",
       "      <td>...</td>\n",
       "      <td>...</td>\n",
       "    </tr>\n",
       "    <tr>\n",
       "      <td>305</td>\n",
       "      <td>0.191918</td>\n",
       "      <td>0.181894</td>\n",
       "    </tr>\n",
       "    <tr>\n",
       "      <td>306</td>\n",
       "      <td>1.486144</td>\n",
       "      <td>1.632924</td>\n",
       "    </tr>\n",
       "    <tr>\n",
       "      <td>307</td>\n",
       "      <td>-0.391441</td>\n",
       "      <td>-0.366754</td>\n",
       "    </tr>\n",
       "    <tr>\n",
       "      <td>308</td>\n",
       "      <td>1.516755</td>\n",
       "      <td>1.520307</td>\n",
       "    </tr>\n",
       "    <tr>\n",
       "      <td>309</td>\n",
       "      <td>0.557157</td>\n",
       "      <td>0.586161</td>\n",
       "    </tr>\n",
       "  </tbody>\n",
       "</table>\n",
       "<p>310 rows × 2 columns</p>\n",
       "</div>"
      ],
      "text/plain": [
       "          0_x       0_y\n",
       "0   -0.295457 -0.271463\n",
       "1   -2.230634 -2.259591\n",
       "2   -1.006618 -0.964492\n",
       "3    0.613576  0.578942\n",
       "4   -0.604882 -0.639635\n",
       "..        ...       ...\n",
       "305  0.191918  0.181894\n",
       "306  1.486144  1.632924\n",
       "307 -0.391441 -0.366754\n",
       "308  1.516755  1.520307\n",
       "309  0.557157  0.586161\n",
       "\n",
       "[310 rows x 2 columns]"
      ]
     },
     "execution_count": 98,
     "metadata": {},
     "output_type": "execute_result"
    }
   ],
   "source": [
    "predictions = pd.DataFrame(predictions)\n",
    "actual = pd.DataFrame(y_test_scaled)\n",
    "# dataset = pd.DataFrame({'predictions': predictions, 'actual': actual}, columns=['Predictions', 'Actuals'])\n",
    "pred_ytest = pd.merge(predictions, actual, left_index=True, right_index=True)\n",
    "pred_ytest\n",
    "# pd.DataFrame({\"Predicted\": predictions, \"Actual\":actual, \"Error\": predictions - actual})"
   ]
  },
  {
   "cell_type": "code",
   "execution_count": 75,
   "metadata": {},
   "outputs": [
    {
     "data": {
      "text/html": [
       "<div>\n",
       "<style scoped>\n",
       "    .dataframe tbody tr th:only-of-type {\n",
       "        vertical-align: middle;\n",
       "    }\n",
       "\n",
       "    .dataframe tbody tr th {\n",
       "        vertical-align: top;\n",
       "    }\n",
       "\n",
       "    .dataframe thead th {\n",
       "        text-align: right;\n",
       "    }\n",
       "</style>\n",
       "<table border=\"1\" class=\"dataframe\">\n",
       "  <thead>\n",
       "    <tr style=\"text-align: right;\">\n",
       "      <th></th>\n",
       "      <th>0</th>\n",
       "    </tr>\n",
       "  </thead>\n",
       "  <tbody>\n",
       "    <tr>\n",
       "      <td>0</td>\n",
       "      <td>-0.295457</td>\n",
       "    </tr>\n",
       "    <tr>\n",
       "      <td>1</td>\n",
       "      <td>-2.230634</td>\n",
       "    </tr>\n",
       "    <tr>\n",
       "      <td>2</td>\n",
       "      <td>-1.006618</td>\n",
       "    </tr>\n",
       "    <tr>\n",
       "      <td>3</td>\n",
       "      <td>0.613576</td>\n",
       "    </tr>\n",
       "    <tr>\n",
       "      <td>4</td>\n",
       "      <td>-0.604882</td>\n",
       "    </tr>\n",
       "    <tr>\n",
       "      <td>...</td>\n",
       "      <td>...</td>\n",
       "    </tr>\n",
       "    <tr>\n",
       "      <td>305</td>\n",
       "      <td>0.191918</td>\n",
       "    </tr>\n",
       "    <tr>\n",
       "      <td>306</td>\n",
       "      <td>1.486144</td>\n",
       "    </tr>\n",
       "    <tr>\n",
       "      <td>307</td>\n",
       "      <td>-0.391441</td>\n",
       "    </tr>\n",
       "    <tr>\n",
       "      <td>308</td>\n",
       "      <td>1.516755</td>\n",
       "    </tr>\n",
       "    <tr>\n",
       "      <td>309</td>\n",
       "      <td>0.557157</td>\n",
       "    </tr>\n",
       "  </tbody>\n",
       "</table>\n",
       "<p>310 rows × 1 columns</p>\n",
       "</div>"
      ],
      "text/plain": [
       "            0\n",
       "0   -0.295457\n",
       "1   -2.230634\n",
       "2   -1.006618\n",
       "3    0.613576\n",
       "4   -0.604882\n",
       "..        ...\n",
       "305  0.191918\n",
       "306  1.486144\n",
       "307 -0.391441\n",
       "308  1.516755\n",
       "309  0.557157\n",
       "\n",
       "[310 rows x 1 columns]"
      ]
     },
     "execution_count": 75,
     "metadata": {},
     "output_type": "execute_result"
    }
   ],
   "source": [
    "pd.DataFrame(predictions)\n",
    "# y_test_scaled.shape"
   ]
  },
  {
   "cell_type": "code",
   "execution_count": 32,
   "metadata": {},
   "outputs": [],
   "source": [
    "# new_data = np.array([[0.5, 0.5]])\n",
    "# plt.scatter(X[:, 0], X[:, 1], c=y)\n",
    "# plt.scatter(new_data[0, 0], new_data[0, 1], c=\"r\", marker=\"o\", s=100)"
   ]
  },
  {
   "cell_type": "code",
   "execution_count": 34,
   "metadata": {},
   "outputs": [],
   "source": [
    "# new_data = np.array([[0.5, 0.5]])\n",
    "# predictions = model.predict(new_data)\n",
    "# print(\"Classes are either 0 (orange) or 1 (blue)\")\n",
    "# print(f\"The new point was classified as: {predictions}\")"
   ]
  },
  {
   "cell_type": "code",
   "execution_count": 47,
   "metadata": {},
   "outputs": [
    {
     "name": "stdout",
     "output_type": "stream",
     "text": [
      "MSE: 0.9642168816438353, R2: 0.07268242927524282\n"
     ]
    }
   ],
   "source": [
    "from sklearn.metrics import mean_squared_error\n",
    "\n",
    "MSE = mean_squared_error(y_test_scaled, predictions)\n",
    "r2 = model.score(X_test_scaled, y_test_scaled)\n",
    "### END SOLUTION\n",
    "\n",
    "print(f\"MSE: {MSE}, R2: {r2}\")"
   ]
  },
  {
   "cell_type": "code",
   "execution_count": 48,
   "metadata": {},
   "outputs": [
    {
     "name": "stdout",
     "output_type": "stream",
     "text": [
      "MSE: 0.9643316506268238, R2: 0.07257205235016972\n"
     ]
    }
   ],
   "source": [
    "# LASSO model\n",
    "# Note: Use an alpha of .01 when creating the model for this activity\n",
    "from sklearn.linear_model import Lasso\n",
    "\n",
    "### BEGIN SOLUTION\n",
    "lasso = Lasso(alpha=.01).fit(X_train_scaled, y_train_scaled)\n",
    "\n",
    "predictions = lasso.predict(X_test_scaled)\n",
    "\n",
    "MSE = mean_squared_error(y_test_scaled, predictions)\n",
    "r2 = lasso.score(X_test_scaled, y_test_scaled)\n",
    "### END SOLUTION\n",
    "\n",
    "print(f\"MSE: {MSE}, R2: {r2}\")"
   ]
  },
  {
   "cell_type": "code",
   "execution_count": 49,
   "metadata": {},
   "outputs": [
    {
     "name": "stdout",
     "output_type": "stream",
     "text": [
      "MSE: 0.9642168749212935, R2: 0.0726824357405218\n"
     ]
    }
   ],
   "source": [
    "# Ridge model\n",
    "# Note: Use an alpha of .01 when creating the model for this activity\n",
    "from sklearn.linear_model import Ridge\n",
    "\n",
    "### BEGIN SOLUTION\n",
    "ridge = Ridge(alpha=.01).fit(X_train_scaled, y_train_scaled)\n",
    "\n",
    "predictions = ridge.predict(X_test_scaled)\n",
    "\n",
    "MSE = mean_squared_error(y_test_scaled, predictions)\n",
    "r2 = ridge.score(X_test_scaled, y_test_scaled)\n",
    "### END SOLUTION\n",
    "\n",
    "print(f\"MSE: {MSE}, R2: {r2}\")"
   ]
  },
  {
   "cell_type": "code",
   "execution_count": 26,
   "metadata": {},
   "outputs": [
    {
     "name": "stdout",
     "output_type": "stream",
     "text": [
      "MSE: 0.5326003169631558, R2: 0.4128704231763558\n"
     ]
    }
   ],
   "source": [
    "# ElasticNet model\n",
    "# Note: Use an alpha of .01 when creating the model for this activity\n",
    "from sklearn.linear_model import ElasticNet\n",
    "\n",
    "### BEGIN SOLUTION\n",
    "elasticnet = ElasticNet(alpha=.01).fit(X_train_scaled, y_train_scaled)\n",
    "\n",
    "predictions = elasticnet.predict(X_test_scaled)\n",
    "\n",
    "MSE = mean_squared_error(y_test_scaled, predictions)\n",
    "r2 = elasticnet.score(X_test_scaled, y_test_scaled)\n",
    "### END SOLUTION\n",
    "\n",
    "print(f\"MSE: {MSE}, R2: {r2}\")"
   ]
  },
  {
   "cell_type": "code",
   "execution_count": 29,
   "metadata": {},
   "outputs": [],
   "source": [
    "# #from 01-07\n",
    "\n",
    "# fig1 = plt.figure(figsize=(12, 6))\n",
    "# axes1 = fig1.add_subplot(1, 2, 1)\n",
    "# axes2 = fig1.add_subplot(1, 2, 2)\n",
    "\n",
    "# axes1.set_title(\"Original Data\")\n",
    "# axes2.set_title(\"Scaled Data\")\n",
    "\n",
    "# maxx = X_train[\"fund_sharpe_ratio_3years\"].max()\n",
    "# maxy = y_train.max()\n",
    "# axes1.set_xlim(-maxx + 1, maxx + 1)\n",
    "# axes1.set_ylim(-maxy + 1, maxy + 1)\n",
    "# # line13: ValueError: The truth value of a Series is ambiguous. Use a.empty, a.bool(), a.item(), a.any() or a.all().\n",
    "\n",
    "# axes2.set_xlim(-2, 2)\n",
    "# axes2.set_ylim(-2, 2)\n",
    "\n",
    "# def set_axes(ax):\n",
    "#     ax.spines['left'].set_position('center')\n",
    "#     ax.spines['right'].set_color('none')\n",
    "#     ax.spines['bottom'].set_position('center')\n",
    "#     ax.spines['top'].set_color('none')\n",
    "#     ax.xaxis.set_ticks_position('bottom')\n",
    "#     ax.yaxis.set_ticks_position('left')\n",
    "    \n",
    "# set_axes(axes1)\n",
    "# set_axes(axes2)\n",
    "\n",
    "# axes1.scatter(X_train[\"fund_sharpe_ratio_3years\"], y_train)\n",
    "# axes2.scatter(X_train_scaled[:,0], y_train_scaled[:])"
   ]
  },
  {
   "cell_type": "code",
   "execution_count": 33,
   "metadata": {},
   "outputs": [
    {
     "ename": "AttributeError",
     "evalue": "'DataFrame' object has no attribute 'data'",
     "output_type": "error",
     "traceback": [
      "\u001b[1;31m---------------------------------------------------------------------------\u001b[0m",
      "\u001b[1;31mAttributeError\u001b[0m                            Traceback (most recent call last)",
      "\u001b[1;32m<ipython-input-33-45f36e89e662>\u001b[0m in \u001b[0;36m<module>\u001b[1;34m\u001b[0m\n\u001b[0;32m      2\u001b[0m \u001b[1;32mfrom\u001b[0m \u001b[0msklearn\u001b[0m \u001b[1;32mimport\u001b[0m \u001b[0mtree\u001b[0m\u001b[1;33m\u001b[0m\u001b[1;33m\u001b[0m\u001b[0m\n\u001b[0;32m      3\u001b[0m \u001b[0mclf\u001b[0m \u001b[1;33m=\u001b[0m \u001b[0mtree\u001b[0m\u001b[1;33m.\u001b[0m\u001b[0mDecisionTreeClassifier\u001b[0m\u001b[1;33m(\u001b[0m\u001b[1;33m)\u001b[0m\u001b[1;33m\u001b[0m\u001b[1;33m\u001b[0m\u001b[0m\n\u001b[1;32m----> 4\u001b[1;33m \u001b[0mclf\u001b[0m \u001b[1;33m=\u001b[0m \u001b[0mclf\u001b[0m\u001b[1;33m.\u001b[0m\u001b[0mfit\u001b[0m\u001b[1;33m(\u001b[0m\u001b[0metf\u001b[0m\u001b[1;33m.\u001b[0m\u001b[0mdata\u001b[0m\u001b[1;33m,\u001b[0m \u001b[0metf\u001b[0m\u001b[1;33m.\u001b[0m\u001b[0mtarget\u001b[0m\u001b[1;33m)\u001b[0m\u001b[1;33m\u001b[0m\u001b[1;33m\u001b[0m\u001b[0m\n\u001b[0m",
      "\u001b[1;32m~\\anaconda\\Anaconda3\\envs\\PandaSpace\\lib\\site-packages\\pandas\\core\\generic.py\u001b[0m in \u001b[0;36m__getattr__\u001b[1;34m(self, name)\u001b[0m\n\u001b[0;32m   5177\u001b[0m             \u001b[1;32mif\u001b[0m \u001b[0mself\u001b[0m\u001b[1;33m.\u001b[0m\u001b[0m_info_axis\u001b[0m\u001b[1;33m.\u001b[0m\u001b[0m_can_hold_identifiers_and_holds_name\u001b[0m\u001b[1;33m(\u001b[0m\u001b[0mname\u001b[0m\u001b[1;33m)\u001b[0m\u001b[1;33m:\u001b[0m\u001b[1;33m\u001b[0m\u001b[1;33m\u001b[0m\u001b[0m\n\u001b[0;32m   5178\u001b[0m                 \u001b[1;32mreturn\u001b[0m \u001b[0mself\u001b[0m\u001b[1;33m[\u001b[0m\u001b[0mname\u001b[0m\u001b[1;33m]\u001b[0m\u001b[1;33m\u001b[0m\u001b[1;33m\u001b[0m\u001b[0m\n\u001b[1;32m-> 5179\u001b[1;33m             \u001b[1;32mreturn\u001b[0m \u001b[0mobject\u001b[0m\u001b[1;33m.\u001b[0m\u001b[0m__getattribute__\u001b[0m\u001b[1;33m(\u001b[0m\u001b[0mself\u001b[0m\u001b[1;33m,\u001b[0m \u001b[0mname\u001b[0m\u001b[1;33m)\u001b[0m\u001b[1;33m\u001b[0m\u001b[1;33m\u001b[0m\u001b[0m\n\u001b[0m\u001b[0;32m   5180\u001b[0m \u001b[1;33m\u001b[0m\u001b[0m\n\u001b[0;32m   5181\u001b[0m     \u001b[1;32mdef\u001b[0m \u001b[0m__setattr__\u001b[0m\u001b[1;33m(\u001b[0m\u001b[0mself\u001b[0m\u001b[1;33m,\u001b[0m \u001b[0mname\u001b[0m\u001b[1;33m,\u001b[0m \u001b[0mvalue\u001b[0m\u001b[1;33m)\u001b[0m\u001b[1;33m:\u001b[0m\u001b[1;33m\u001b[0m\u001b[1;33m\u001b[0m\u001b[0m\n",
      "\u001b[1;31mAttributeError\u001b[0m: 'DataFrame' object has no attribute 'data'"
     ]
    }
   ],
   "source": [
    "# From 2-03\n",
    "from sklearn import tree\n",
    "clf = tree.DecisionTreeClassifier()\n",
    "clf = clf.fit(etf.data, etf.target)"
   ]
  },
  {
   "cell_type": "code",
   "execution_count": null,
   "metadata": {},
   "outputs": [],
   "source": []
  }
 ],
 "metadata": {
  "kernelspec": {
   "display_name": "Python [conda env:PandaSpace]",
   "language": "python",
   "name": "conda-env-PandaSpace-py"
  },
  "language_info": {
   "codemirror_mode": {
    "name": "ipython",
    "version": 3
   },
   "file_extension": ".py",
   "mimetype": "text/x-python",
   "name": "python",
   "nbconvert_exporter": "python",
   "pygments_lexer": "ipython3",
   "version": "3.6.9"
  }
 },
 "nbformat": 4,
 "nbformat_minor": 2
}
