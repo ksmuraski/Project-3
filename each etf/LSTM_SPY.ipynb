{
 "cells": [
  {
   "cell_type": "code",
   "execution_count": 39,
   "metadata": {},
   "outputs": [],
   "source": [
    "import math\n",
    "import pandas_datareader as web\n",
    "import numpy as np\n",
    "import pandas as pd\n",
    "from sklearn.preprocessing import MinMaxScaler\n",
    "from keras.models import Sequential\n",
    "from keras.layers import Dense, LSTM\n",
    "import matplotlib.pyplot as plt\n",
    "plt.style.use('fivethirtyeight')"
   ]
  },
  {
   "cell_type": "code",
   "execution_count": 40,
   "metadata": {},
   "outputs": [
    {
     "data": {
      "text/html": [
       "<div>\n",
       "<style scoped>\n",
       "    .dataframe tbody tr th:only-of-type {\n",
       "        vertical-align: middle;\n",
       "    }\n",
       "\n",
       "    .dataframe tbody tr th {\n",
       "        vertical-align: top;\n",
       "    }\n",
       "\n",
       "    .dataframe thead th {\n",
       "        text-align: right;\n",
       "    }\n",
       "</style>\n",
       "<table border=\"1\" class=\"dataframe\">\n",
       "  <thead>\n",
       "    <tr style=\"text-align: right;\">\n",
       "      <th></th>\n",
       "      <th>date</th>\n",
       "      <th>open</th>\n",
       "      <th>high</th>\n",
       "      <th>low</th>\n",
       "      <th>close</th>\n",
       "      <th>volume</th>\n",
       "      <th>ticker</th>\n",
       "    </tr>\n",
       "  </thead>\n",
       "  <tbody>\n",
       "    <tr>\n",
       "      <td>0</td>\n",
       "      <td>2015-01-05</td>\n",
       "      <td>204.17</td>\n",
       "      <td>204.37</td>\n",
       "      <td>201.35</td>\n",
       "      <td>201.72</td>\n",
       "      <td>169632646</td>\n",
       "      <td>SPY</td>\n",
       "    </tr>\n",
       "    <tr>\n",
       "      <td>1</td>\n",
       "      <td>2015-01-06</td>\n",
       "      <td>202.09</td>\n",
       "      <td>202.72</td>\n",
       "      <td>198.86</td>\n",
       "      <td>199.82</td>\n",
       "      <td>209151408</td>\n",
       "      <td>SPY</td>\n",
       "    </tr>\n",
       "    <tr>\n",
       "      <td>2</td>\n",
       "      <td>2015-01-07</td>\n",
       "      <td>201.42</td>\n",
       "      <td>202.72</td>\n",
       "      <td>200.88</td>\n",
       "      <td>202.31</td>\n",
       "      <td>125346709</td>\n",
       "      <td>SPY</td>\n",
       "    </tr>\n",
       "    <tr>\n",
       "      <td>3</td>\n",
       "      <td>2015-01-08</td>\n",
       "      <td>204.01</td>\n",
       "      <td>206.16</td>\n",
       "      <td>203.99</td>\n",
       "      <td>205.90</td>\n",
       "      <td>147217784</td>\n",
       "      <td>SPY</td>\n",
       "    </tr>\n",
       "    <tr>\n",
       "      <td>4</td>\n",
       "      <td>2015-01-09</td>\n",
       "      <td>206.40</td>\n",
       "      <td>206.42</td>\n",
       "      <td>203.51</td>\n",
       "      <td>204.25</td>\n",
       "      <td>158567288</td>\n",
       "      <td>SPY</td>\n",
       "    </tr>\n",
       "    <tr>\n",
       "      <td>...</td>\n",
       "      <td>...</td>\n",
       "      <td>...</td>\n",
       "      <td>...</td>\n",
       "      <td>...</td>\n",
       "      <td>...</td>\n",
       "      <td>...</td>\n",
       "      <td>...</td>\n",
       "    </tr>\n",
       "    <tr>\n",
       "      <td>125695</td>\n",
       "      <td>2019-12-24</td>\n",
       "      <td>22.82</td>\n",
       "      <td>22.82</td>\n",
       "      <td>22.77</td>\n",
       "      <td>22.78</td>\n",
       "      <td>2633089</td>\n",
       "      <td>BKLN</td>\n",
       "    </tr>\n",
       "    <tr>\n",
       "      <td>125696</td>\n",
       "      <td>2019-12-26</td>\n",
       "      <td>22.79</td>\n",
       "      <td>22.81</td>\n",
       "      <td>22.79</td>\n",
       "      <td>22.79</td>\n",
       "      <td>2999603</td>\n",
       "      <td>BKLN</td>\n",
       "    </tr>\n",
       "    <tr>\n",
       "      <td>125697</td>\n",
       "      <td>2019-12-27</td>\n",
       "      <td>22.79</td>\n",
       "      <td>22.80</td>\n",
       "      <td>22.78</td>\n",
       "      <td>22.79</td>\n",
       "      <td>2654723</td>\n",
       "      <td>BKLN</td>\n",
       "    </tr>\n",
       "    <tr>\n",
       "      <td>125698</td>\n",
       "      <td>2019-12-30</td>\n",
       "      <td>22.80</td>\n",
       "      <td>22.81</td>\n",
       "      <td>22.71</td>\n",
       "      <td>22.71</td>\n",
       "      <td>3697412</td>\n",
       "      <td>BKLN</td>\n",
       "    </tr>\n",
       "    <tr>\n",
       "      <td>125699</td>\n",
       "      <td>2019-12-31</td>\n",
       "      <td>22.78</td>\n",
       "      <td>22.82</td>\n",
       "      <td>22.78</td>\n",
       "      <td>22.82</td>\n",
       "      <td>3563469</td>\n",
       "      <td>BKLN</td>\n",
       "    </tr>\n",
       "  </tbody>\n",
       "</table>\n",
       "<p>125700 rows × 7 columns</p>\n",
       "</div>"
      ],
      "text/plain": [
       "              date    open    high     low   close     volume ticker\n",
       "0       2015-01-05  204.17  204.37  201.35  201.72  169632646    SPY\n",
       "1       2015-01-06  202.09  202.72  198.86  199.82  209151408    SPY\n",
       "2       2015-01-07  201.42  202.72  200.88  202.31  125346709    SPY\n",
       "3       2015-01-08  204.01  206.16  203.99  205.90  147217784    SPY\n",
       "4       2015-01-09  206.40  206.42  203.51  204.25  158567288    SPY\n",
       "...            ...     ...     ...     ...     ...        ...    ...\n",
       "125695  2019-12-24   22.82   22.82   22.77   22.78    2633089   BKLN\n",
       "125696  2019-12-26   22.79   22.81   22.79   22.79    2999603   BKLN\n",
       "125697  2019-12-27   22.79   22.80   22.78   22.79    2654723   BKLN\n",
       "125698  2019-12-30   22.80   22.81   22.71   22.71    3697412   BKLN\n",
       "125699  2019-12-31   22.78   22.82   22.78   22.82    3563469   BKLN\n",
       "\n",
       "[125700 rows x 7 columns]"
      ]
     },
     "execution_count": 40,
     "metadata": {},
     "output_type": "execute_result"
    }
   ],
   "source": [
    "data1 = pd.read_csv('../stats_100_etfs.csv')\n",
    "data = pd.read_csv('../hun_etfs.csv')\n",
    "data"
   ]
  },
  {
   "cell_type": "code",
   "execution_count": 41,
   "metadata": {
    "scrolled": true
   },
   "outputs": [
    {
     "data": {
      "text/html": [
       "<div>\n",
       "<style scoped>\n",
       "    .dataframe tbody tr th:only-of-type {\n",
       "        vertical-align: middle;\n",
       "    }\n",
       "\n",
       "    .dataframe tbody tr th {\n",
       "        vertical-align: top;\n",
       "    }\n",
       "\n",
       "    .dataframe thead th {\n",
       "        text-align: right;\n",
       "    }\n",
       "</style>\n",
       "<table border=\"1\" class=\"dataframe\">\n",
       "  <thead>\n",
       "    <tr style=\"text-align: right;\">\n",
       "      <th></th>\n",
       "      <th>open</th>\n",
       "      <th>high</th>\n",
       "      <th>low</th>\n",
       "      <th>close</th>\n",
       "      <th>volume</th>\n",
       "      <th>ticker</th>\n",
       "    </tr>\n",
       "    <tr>\n",
       "      <th>date</th>\n",
       "      <th></th>\n",
       "      <th></th>\n",
       "      <th></th>\n",
       "      <th></th>\n",
       "      <th></th>\n",
       "      <th></th>\n",
       "    </tr>\n",
       "  </thead>\n",
       "  <tbody>\n",
       "    <tr>\n",
       "      <td>2015-01-05</td>\n",
       "      <td>204.17</td>\n",
       "      <td>204.37</td>\n",
       "      <td>201.35</td>\n",
       "      <td>201.72</td>\n",
       "      <td>169632646</td>\n",
       "      <td>SPY</td>\n",
       "    </tr>\n",
       "    <tr>\n",
       "      <td>2015-01-06</td>\n",
       "      <td>202.09</td>\n",
       "      <td>202.72</td>\n",
       "      <td>198.86</td>\n",
       "      <td>199.82</td>\n",
       "      <td>209151408</td>\n",
       "      <td>SPY</td>\n",
       "    </tr>\n",
       "    <tr>\n",
       "      <td>2015-01-07</td>\n",
       "      <td>201.42</td>\n",
       "      <td>202.72</td>\n",
       "      <td>200.88</td>\n",
       "      <td>202.31</td>\n",
       "      <td>125346709</td>\n",
       "      <td>SPY</td>\n",
       "    </tr>\n",
       "    <tr>\n",
       "      <td>2015-01-08</td>\n",
       "      <td>204.01</td>\n",
       "      <td>206.16</td>\n",
       "      <td>203.99</td>\n",
       "      <td>205.90</td>\n",
       "      <td>147217784</td>\n",
       "      <td>SPY</td>\n",
       "    </tr>\n",
       "    <tr>\n",
       "      <td>2015-01-09</td>\n",
       "      <td>206.40</td>\n",
       "      <td>206.42</td>\n",
       "      <td>203.51</td>\n",
       "      <td>204.25</td>\n",
       "      <td>158567288</td>\n",
       "      <td>SPY</td>\n",
       "    </tr>\n",
       "    <tr>\n",
       "      <td>...</td>\n",
       "      <td>...</td>\n",
       "      <td>...</td>\n",
       "      <td>...</td>\n",
       "      <td>...</td>\n",
       "      <td>...</td>\n",
       "      <td>...</td>\n",
       "    </tr>\n",
       "    <tr>\n",
       "      <td>2019-12-24</td>\n",
       "      <td>321.47</td>\n",
       "      <td>321.52</td>\n",
       "      <td>320.90</td>\n",
       "      <td>321.23</td>\n",
       "      <td>20270007</td>\n",
       "      <td>SPY</td>\n",
       "    </tr>\n",
       "    <tr>\n",
       "      <td>2019-12-26</td>\n",
       "      <td>321.65</td>\n",
       "      <td>322.95</td>\n",
       "      <td>321.64</td>\n",
       "      <td>322.94</td>\n",
       "      <td>31024188</td>\n",
       "      <td>SPY</td>\n",
       "    </tr>\n",
       "    <tr>\n",
       "      <td>2019-12-27</td>\n",
       "      <td>323.74</td>\n",
       "      <td>323.80</td>\n",
       "      <td>322.28</td>\n",
       "      <td>322.86</td>\n",
       "      <td>42554820</td>\n",
       "      <td>SPY</td>\n",
       "    </tr>\n",
       "    <tr>\n",
       "      <td>2019-12-30</td>\n",
       "      <td>322.95</td>\n",
       "      <td>323.10</td>\n",
       "      <td>320.55</td>\n",
       "      <td>321.08</td>\n",
       "      <td>49782730</td>\n",
       "      <td>SPY</td>\n",
       "    </tr>\n",
       "    <tr>\n",
       "      <td>2019-12-31</td>\n",
       "      <td>320.53</td>\n",
       "      <td>322.13</td>\n",
       "      <td>320.15</td>\n",
       "      <td>321.86</td>\n",
       "      <td>57106998</td>\n",
       "      <td>SPY</td>\n",
       "    </tr>\n",
       "  </tbody>\n",
       "</table>\n",
       "<p>1257 rows × 6 columns</p>\n",
       "</div>"
      ],
      "text/plain": [
       "              open    high     low   close     volume ticker\n",
       "date                                                        \n",
       "2015-01-05  204.17  204.37  201.35  201.72  169632646    SPY\n",
       "2015-01-06  202.09  202.72  198.86  199.82  209151408    SPY\n",
       "2015-01-07  201.42  202.72  200.88  202.31  125346709    SPY\n",
       "2015-01-08  204.01  206.16  203.99  205.90  147217784    SPY\n",
       "2015-01-09  206.40  206.42  203.51  204.25  158567288    SPY\n",
       "...            ...     ...     ...     ...        ...    ...\n",
       "2019-12-24  321.47  321.52  320.90  321.23   20270007    SPY\n",
       "2019-12-26  321.65  322.95  321.64  322.94   31024188    SPY\n",
       "2019-12-27  323.74  323.80  322.28  322.86   42554820    SPY\n",
       "2019-12-30  322.95  323.10  320.55  321.08   49782730    SPY\n",
       "2019-12-31  320.53  322.13  320.15  321.86   57106998    SPY\n",
       "\n",
       "[1257 rows x 6 columns]"
      ]
     },
     "execution_count": 41,
     "metadata": {},
     "output_type": "execute_result"
    }
   ],
   "source": [
    "df = data.loc[data['ticker'] == 'SPY']\n",
    "df = df.set_index('date')\n",
    "df"
   ]
  },
  {
   "cell_type": "code",
   "execution_count": 42,
   "metadata": {},
   "outputs": [],
   "source": [
    "# from datetime import datetime\n",
    "# df['date'] = pd.to_datetime(df['date'])"
   ]
  },
  {
   "cell_type": "code",
   "execution_count": 43,
   "metadata": {},
   "outputs": [
    {
     "data": {
      "image/png": "[encoded data removed]",
      "text/plain": [
       "<Figure size 1152x576 with 1 Axes>"
      ]
     },
     "metadata": {},
     "output_type": "display_data"
    }
   ],
   "source": [
    "plt.figure(figsize=(16,8))\n",
    "plt.title('Close Price History')\n",
    "plt.plot(df['close'])\n",
    "plt.xlabel('Date', fontsize=18)\n",
    "plt.ylabel('Close Price USD ($)', fontsize=18)\n",
    "plt.savefig('spy_closeprice.png')\n",
    "plt.show()"
   ]
  },
  {
   "cell_type": "code",
   "execution_count": 44,
   "metadata": {},
   "outputs": [
    {
     "data": {
      "text/plain": [
       "1195"
      ]
     },
     "execution_count": 44,
     "metadata": {},
     "output_type": "execute_result"
    }
   ],
   "source": [
    "#Create a new dataframe with only the 'Close column\n",
    "data = df[['close']]\n",
    "#Convert the dataframe to a numpy array\n",
    "dataset = data.values\n",
    "#Get the number of rows to train the model on\n",
    "training_data_len = math.ceil( len(dataset) * .95 )\n",
    "\n",
    "training_data_len"
   ]
  },
  {
   "cell_type": "code",
   "execution_count": 45,
   "metadata": {},
   "outputs": [
    {
     "data": {
      "text/plain": [
       "array([[201.72],\n",
       "       [199.82],\n",
       "       [202.31],\n",
       "       ...,\n",
       "       [322.86],\n",
       "       [321.08],\n",
       "       [321.86]])"
      ]
     },
     "execution_count": 45,
     "metadata": {},
     "output_type": "execute_result"
    }
   ],
   "source": [
    "dataset"
   ]
  },
  {
   "cell_type": "code",
   "execution_count": 46,
   "metadata": {},
   "outputs": [
    {
     "data": {
      "text/plain": [
       "array([[0.13463735],\n",
       "       [0.12107367],\n",
       "       [0.13884923],\n",
       "       ...,\n",
       "       [0.9994289 ],\n",
       "       [0.98672187],\n",
       "       [0.99229012]])"
      ]
     },
     "execution_count": 46,
     "metadata": {},
     "output_type": "execute_result"
    }
   ],
   "source": [
    "scaler = MinMaxScaler(feature_range=(0,1))\n",
    "scaled_data = scaler.fit_transform(data)\n",
    "\n",
    "scaled_data"
   ]
  },
  {
   "cell_type": "code",
   "execution_count": 47,
   "metadata": {},
   "outputs": [
    {
     "name": "stdout",
     "output_type": "stream",
     "text": [
      "[array([0.13463735, 0.12107367, 0.13884923, 0.16447744, 0.15269846,\n",
      "       0.14127641, 0.13720731, 0.128498  , 0.11536265, 0.13399486,\n",
      "       0.13706453, 0.14434609, 0.1659052 , 0.15783838, 0.16126499,\n",
      "       0.1419189 , 0.12335808, 0.13656482, 0.11843232, 0.13606511,\n",
      "       0.15691034, 0.15134209, 0.16604797, 0.16197887, 0.15541119,\n",
      "       0.17097373, 0.17183038, 0.18603655, 0.1921759 , 0.1945317 ])]\n",
      "[0.1946744717304396]\n",
      "\n",
      "[array([0.13463735, 0.12107367, 0.13884923, 0.16447744, 0.15269846,\n",
      "       0.14127641, 0.13720731, 0.128498  , 0.11536265, 0.13399486,\n",
      "       0.13706453, 0.14434609, 0.1659052 , 0.15783838, 0.16126499,\n",
      "       0.1419189 , 0.12335808, 0.13656482, 0.11843232, 0.13606511,\n",
      "       0.15691034, 0.15134209, 0.16604797, 0.16197887, 0.15541119,\n",
      "       0.17097373, 0.17183038, 0.18603655, 0.1921759 , 0.1945317 ]), array([0.12107367, 0.13884923, 0.16447744, 0.15269846, 0.14127641,\n",
      "       0.13720731, 0.128498  , 0.11536265, 0.13399486, 0.13706453,\n",
      "       0.14434609, 0.1659052 , 0.15783838, 0.16126499, 0.1419189 ,\n",
      "       0.12335808, 0.13656482, 0.11843232, 0.13606511, 0.15691034,\n",
      "       0.15134209, 0.16604797, 0.16197887, 0.15541119, 0.17097373,\n",
      "       0.17183038, 0.18603655, 0.1921759 , 0.1945317 , 0.19467447])]\n",
      "[0.1946744717304396, 0.1936036550542546]\n",
      "\n"
     ]
    }
   ],
   "source": [
    "#Create the training data set\n",
    "#Create the scaled training data set\n",
    "train_data = scaled_data[0:training_data_len , :]\n",
    "#Split the data into x_train and y_train data sets\n",
    "x_train = []\n",
    "y_train = []\n",
    "\n",
    "for i in range(30, len(train_data)):\n",
    "  x_train.append(train_data[i-30:i, 0])\n",
    "  y_train.append(train_data[i, 0])\n",
    "  if i<= 31:\n",
    "    print(x_train)\n",
    "    print(y_train)\n",
    "    print()"
   ]
  },
  {
   "cell_type": "code",
   "execution_count": 48,
   "metadata": {},
   "outputs": [],
   "source": [
    "#Convert the x_train and y_train to numpy arrays \n",
    "x_train, y_train = np.array(x_train), np.array(y_train)"
   ]
  },
  {
   "cell_type": "code",
   "execution_count": 49,
   "metadata": {},
   "outputs": [
    {
     "data": {
      "text/plain": [
       "(1165, 30, 1)"
      ]
     },
     "execution_count": 49,
     "metadata": {},
     "output_type": "execute_result"
    }
   ],
   "source": [
    "#Reshape the data\n",
    "x_train = np.reshape(x_train, (x_train.shape[0], x_train.shape[1], 1))\n",
    "x_train.shape"
   ]
  },
  {
   "cell_type": "code",
   "execution_count": 50,
   "metadata": {},
   "outputs": [
    {
     "name": "stdout",
     "output_type": "stream",
     "text": [
      "WARNING:tensorflow:From C:\\Users\\jayar\\anaconda\\Anaconda3\\envs\\PandaSpace\\lib\\site-packages\\keras\\backend\\tensorflow_backend.py:74: The name tf.get_default_graph is deprecated. Please use tf.compat.v1.get_default_graph instead.\n",
      "\n",
      "WARNING:tensorflow:From C:\\Users\\jayar\\anaconda\\Anaconda3\\envs\\PandaSpace\\lib\\site-packages\\keras\\backend\\tensorflow_backend.py:517: The name tf.placeholder is deprecated. Please use tf.compat.v1.placeholder instead.\n",
      "\n",
      "WARNING:tensorflow:From C:\\Users\\jayar\\anaconda\\Anaconda3\\envs\\PandaSpace\\lib\\site-packages\\keras\\backend\\tensorflow_backend.py:4138: The name tf.random_uniform is deprecated. Please use tf.random.uniform instead.\n",
      "\n"
     ]
    }
   ],
   "source": [
    "#Build the LSTM model\n",
    "model = Sequential()\n",
    "model.add(LSTM(50, return_sequences=True, input_shape= (x_train.shape[1], 1)))\n",
    "model.add(LSTM(50, return_sequences= False))\n",
    "model.add(Dense(25))\n",
    "model.add(Dense(1))"
   ]
  },
  {
   "cell_type": "code",
   "execution_count": 51,
   "metadata": {},
   "outputs": [
    {
     "name": "stdout",
     "output_type": "stream",
     "text": [
      "WARNING:tensorflow:From C:\\Users\\jayar\\anaconda\\Anaconda3\\envs\\PandaSpace\\lib\\site-packages\\keras\\optimizers.py:790: The name tf.train.Optimizer is deprecated. Please use tf.compat.v1.train.Optimizer instead.\n",
      "\n"
     ]
    }
   ],
   "source": [
    "#Compile the model\n",
    "model.compile(optimizer='adam', loss='mean_squared_error')"
   ]
  },
  {
   "cell_type": "code",
   "execution_count": 52,
   "metadata": {},
   "outputs": [
    {
     "name": "stdout",
     "output_type": "stream",
     "text": [
      "WARNING:tensorflow:From C:\\Users\\jayar\\anaconda\\Anaconda3\\envs\\PandaSpace\\lib\\site-packages\\tensorflow\\python\\ops\\math_grad.py:1250: add_dispatch_support.<locals>.wrapper (from tensorflow.python.ops.array_ops) is deprecated and will be removed in a future version.\n",
      "Instructions for updating:\n",
      "Use tf.where in 2.0, which has the same broadcast rule as np.where\n",
      "WARNING:tensorflow:From C:\\Users\\jayar\\anaconda\\Anaconda3\\envs\\PandaSpace\\lib\\site-packages\\keras\\backend\\tensorflow_backend.py:986: The name tf.assign_add is deprecated. Please use tf.compat.v1.assign_add instead.\n",
      "\n",
      "WARNING:tensorflow:From C:\\Users\\jayar\\anaconda\\Anaconda3\\envs\\PandaSpace\\lib\\site-packages\\keras\\backend\\tensorflow_backend.py:973: The name tf.assign is deprecated. Please use tf.compat.v1.assign instead.\n",
      "\n",
      "Epoch 1/1\n",
      "1165/1165 [==============================] - 90s 77ms/step - loss: 0.0028\n"
     ]
    },
    {
     "data": {
      "text/plain": [
       "<keras.callbacks.History at 0x171afe71f60>"
      ]
     },
     "execution_count": 52,
     "metadata": {},
     "output_type": "execute_result"
    }
   ],
   "source": [
    "#Train the model\n",
    "model.fit(x_train, y_train, batch_size=1, epochs=1)"
   ]
  },
  {
   "cell_type": "code",
   "execution_count": 53,
   "metadata": {},
   "outputs": [],
   "source": [
    "#Create the testing data set\n",
    "#Create a new array containing scaled values from index 1543 to 2002 \n",
    "test_data = scaled_data[training_data_len - 30: , :]\n",
    "#Create the data sets x_test and y_test\n",
    "x_test = []\n",
    "y_test = dataset[training_data_len:, :]\n",
    "for i in range(30, len(test_data)):\n",
    "  x_test.append(test_data[i-30:i, 0])"
   ]
  },
  {
   "cell_type": "code",
   "execution_count": 54,
   "metadata": {},
   "outputs": [],
   "source": [
    "#Convert the data to a numpy array\n",
    "x_test = np.array(x_test)"
   ]
  },
  {
   "cell_type": "code",
   "execution_count": 55,
   "metadata": {},
   "outputs": [],
   "source": [
    "#Reshape the data\n",
    "x_test = np.reshape(x_test, (x_test.shape[0], x_test.shape[1], 1 ))"
   ]
  },
  {
   "cell_type": "code",
   "execution_count": 56,
   "metadata": {},
   "outputs": [],
   "source": [
    "#Get the models predicted price values \n",
    "predictions = model.predict(x_test)\n",
    "predictions = scaler.inverse_transform(predictions)"
   ]
  },
  {
   "cell_type": "code",
   "execution_count": 57,
   "metadata": {},
   "outputs": [
    {
     "data": {
      "text/plain": [
       "3.2354341383002363"
      ]
     },
     "execution_count": 57,
     "metadata": {},
     "output_type": "execute_result"
    }
   ],
   "source": [
    "#Get the root mean squared error (RMSE)\n",
    "rmse=np.sqrt(np.mean(((predictions- y_test)**2)))\n",
    "rmse"
   ]
  },
  {
   "cell_type": "code",
   "execution_count": 74,
   "metadata": {},
   "outputs": [
    {
     "name": "stderr",
     "output_type": "stream",
     "text": [
      "C:\\Users\\jayar\\anaconda\\Anaconda3\\envs\\PandaSpace\\lib\\site-packages\\ipykernel_launcher.py:4: SettingWithCopyWarning: \n",
      "A value is trying to be set on a copy of a slice from a DataFrame.\n",
      "Try using .loc[row_indexer,col_indexer] = value instead\n",
      "\n",
      "See the caveats in the documentation: http://pandas.pydata.org/pandas-docs/stable/user_guide/indexing.html#returning-a-view-versus-a-copy\n",
      "  after removing the cwd from sys.path.\n"
     ]
    },
    {
     "data": {
      "image/png": "[encoded data removed]",
      "text/plain": [
       "<Figure size 1152x576 with 1 Axes>"
      ]
     },
     "metadata": {},
     "output_type": "display_data"
    }
   ],
   "source": [
    "#Plot the data\n",
    "train = data[:training_data_len]\n",
    "valid = data[training_data_len:]\n",
    "valid['Predictions'] = predictions\n",
    "#Visualize the data\n",
    "plt.figure(figsize=(16,8))\n",
    "plt.title('SPY LSTM Forecast')\n",
    "plt.xlabel('Date', fontsize=18)\n",
    "plt.ylabel('Close Price USD ($)', fontsize=18)\n",
    "plt.plot(train['close'])\n",
    "plt.plot(valid[['close', 'Predictions']])\n",
    "plt.legend(['Train', 'Val', 'Predictions'], loc='lower right')\n",
    "plt.savefig('spy_lstm_forecast.png')\n",
    "plt.show()"
   ]
  },
  {
   "cell_type": "code",
   "execution_count": 60,
   "metadata": {
    "scrolled": true
   },
   "outputs": [
    {
     "data": {
      "text/html": [
       "<div>\n",
       "<style scoped>\n",
       "    .dataframe tbody tr th:only-of-type {\n",
       "        vertical-align: middle;\n",
       "    }\n",
       "\n",
       "    .dataframe tbody tr th {\n",
       "        vertical-align: top;\n",
       "    }\n",
       "\n",
       "    .dataframe thead th {\n",
       "        text-align: right;\n",
       "    }\n",
       "</style>\n",
       "<table border=\"1\" class=\"dataframe\">\n",
       "  <thead>\n",
       "    <tr style=\"text-align: right;\">\n",
       "      <th></th>\n",
       "      <th>close</th>\n",
       "      <th>Predictions</th>\n",
       "    </tr>\n",
       "    <tr>\n",
       "      <th>date</th>\n",
       "      <th></th>\n",
       "      <th></th>\n",
       "    </tr>\n",
       "  </thead>\n",
       "  <tbody>\n",
       "    <tr>\n",
       "      <td>2019-10-03</td>\n",
       "      <td>290.42</td>\n",
       "      <td>296.770233</td>\n",
       "    </tr>\n",
       "    <tr>\n",
       "      <td>2019-10-04</td>\n",
       "      <td>294.35</td>\n",
       "      <td>295.727753</td>\n",
       "    </tr>\n",
       "    <tr>\n",
       "      <td>2019-10-07</td>\n",
       "      <td>293.08</td>\n",
       "      <td>295.237762</td>\n",
       "    </tr>\n",
       "    <tr>\n",
       "      <td>2019-10-08</td>\n",
       "      <td>288.53</td>\n",
       "      <td>294.918243</td>\n",
       "    </tr>\n",
       "    <tr>\n",
       "      <td>2019-10-09</td>\n",
       "      <td>291.27</td>\n",
       "      <td>294.261261</td>\n",
       "    </tr>\n",
       "    <tr>\n",
       "      <td>...</td>\n",
       "      <td>...</td>\n",
       "      <td>...</td>\n",
       "    </tr>\n",
       "    <tr>\n",
       "      <td>2019-12-24</td>\n",
       "      <td>321.23</td>\n",
       "      <td>317.548462</td>\n",
       "    </tr>\n",
       "    <tr>\n",
       "      <td>2019-12-26</td>\n",
       "      <td>322.94</td>\n",
       "      <td>317.999298</td>\n",
       "    </tr>\n",
       "    <tr>\n",
       "      <td>2019-12-27</td>\n",
       "      <td>322.86</td>\n",
       "      <td>318.529572</td>\n",
       "    </tr>\n",
       "    <tr>\n",
       "      <td>2019-12-30</td>\n",
       "      <td>321.08</td>\n",
       "      <td>319.018585</td>\n",
       "    </tr>\n",
       "    <tr>\n",
       "      <td>2019-12-31</td>\n",
       "      <td>321.86</td>\n",
       "      <td>319.254395</td>\n",
       "    </tr>\n",
       "  </tbody>\n",
       "</table>\n",
       "<p>62 rows × 2 columns</p>\n",
       "</div>"
      ],
      "text/plain": [
       "             close  Predictions\n",
       "date                           \n",
       "2019-10-03  290.42   296.770233\n",
       "2019-10-04  294.35   295.727753\n",
       "2019-10-07  293.08   295.237762\n",
       "2019-10-08  288.53   294.918243\n",
       "2019-10-09  291.27   294.261261\n",
       "...            ...          ...\n",
       "2019-12-24  321.23   317.548462\n",
       "2019-12-26  322.94   317.999298\n",
       "2019-12-27  322.86   318.529572\n",
       "2019-12-30  321.08   319.018585\n",
       "2019-12-31  321.86   319.254395\n",
       "\n",
       "[62 rows x 2 columns]"
      ]
     },
     "execution_count": 60,
     "metadata": {},
     "output_type": "execute_result"
    }
   ],
   "source": [
    "valid"
   ]
  },
  {
   "cell_type": "code",
   "execution_count": 70,
   "metadata": {
    "scrolled": true
   },
   "outputs": [
    {
     "name": "stderr",
     "output_type": "stream",
     "text": [
      "C:\\Users\\jayar\\anaconda\\Anaconda3\\envs\\PandaSpace\\lib\\site-packages\\ipykernel_launcher.py:1: SettingWithCopyWarning: \n",
      "A value is trying to be set on a copy of a slice from a DataFrame.\n",
      "Try using .loc[row_indexer,col_indexer] = value instead\n",
      "\n",
      "See the caveats in the documentation: http://pandas.pydata.org/pandas-docs/stable/user_guide/indexing.html#returning-a-view-versus-a-copy\n",
      "  \"\"\"Entry point for launching an IPython kernel.\n",
      "C:\\Users\\jayar\\anaconda\\Anaconda3\\envs\\PandaSpace\\lib\\site-packages\\ipykernel_launcher.py:2: SettingWithCopyWarning: \n",
      "A value is trying to be set on a copy of a slice from a DataFrame.\n",
      "Try using .loc[row_indexer,col_indexer] = value instead\n",
      "\n",
      "See the caveats in the documentation: http://pandas.pydata.org/pandas-docs/stable/user_guide/indexing.html#returning-a-view-versus-a-copy\n",
      "  \n",
      "C:\\Users\\jayar\\anaconda\\Anaconda3\\envs\\PandaSpace\\lib\\site-packages\\ipykernel_launcher.py:3: SettingWithCopyWarning: \n",
      "A value is trying to be set on a copy of a slice from a DataFrame.\n",
      "Try using .loc[row_indexer,col_indexer] = value instead\n",
      "\n",
      "See the caveats in the documentation: http://pandas.pydata.org/pandas-docs/stable/user_guide/indexing.html#returning-a-view-versus-a-copy\n",
      "  This is separate from the ipykernel package so we can avoid doing imports until\n"
     ]
    },
    {
     "data": {
      "text/html": [
       "<div>\n",
       "<style scoped>\n",
       "    .dataframe tbody tr th:only-of-type {\n",
       "        vertical-align: middle;\n",
       "    }\n",
       "\n",
       "    .dataframe tbody tr th {\n",
       "        vertical-align: top;\n",
       "    }\n",
       "\n",
       "    .dataframe thead th {\n",
       "        text-align: right;\n",
       "    }\n",
       "</style>\n",
       "<table border=\"1\" class=\"dataframe\">\n",
       "  <thead>\n",
       "    <tr style=\"text-align: right;\">\n",
       "      <th></th>\n",
       "      <th>close</th>\n",
       "      <th>Predictions</th>\n",
       "      <th>difference</th>\n",
       "      <th>difference_pct</th>\n",
       "    </tr>\n",
       "    <tr>\n",
       "      <th>date</th>\n",
       "      <th></th>\n",
       "      <th></th>\n",
       "      <th></th>\n",
       "      <th></th>\n",
       "    </tr>\n",
       "  </thead>\n",
       "  <tbody>\n",
       "    <tr>\n",
       "      <td>2019-10-03</td>\n",
       "      <td>290.42</td>\n",
       "      <td>296.770233</td>\n",
       "      <td>-6.350233</td>\n",
       "      <td>-2.19%</td>\n",
       "    </tr>\n",
       "    <tr>\n",
       "      <td>2019-10-04</td>\n",
       "      <td>294.35</td>\n",
       "      <td>295.727753</td>\n",
       "      <td>-1.377753</td>\n",
       "      <td>-0.47%</td>\n",
       "    </tr>\n",
       "    <tr>\n",
       "      <td>2019-10-07</td>\n",
       "      <td>293.08</td>\n",
       "      <td>295.237762</td>\n",
       "      <td>-2.157762</td>\n",
       "      <td>-0.74%</td>\n",
       "    </tr>\n",
       "    <tr>\n",
       "      <td>2019-10-08</td>\n",
       "      <td>288.53</td>\n",
       "      <td>294.918243</td>\n",
       "      <td>-6.388243</td>\n",
       "      <td>-2.21%</td>\n",
       "    </tr>\n",
       "    <tr>\n",
       "      <td>2019-10-09</td>\n",
       "      <td>291.27</td>\n",
       "      <td>294.261261</td>\n",
       "      <td>-2.991261</td>\n",
       "      <td>-1.03%</td>\n",
       "    </tr>\n",
       "    <tr>\n",
       "      <td>...</td>\n",
       "      <td>...</td>\n",
       "      <td>...</td>\n",
       "      <td>...</td>\n",
       "      <td>...</td>\n",
       "    </tr>\n",
       "    <tr>\n",
       "      <td>2019-12-24</td>\n",
       "      <td>321.23</td>\n",
       "      <td>317.548462</td>\n",
       "      <td>3.681538</td>\n",
       "      <td>1.15%</td>\n",
       "    </tr>\n",
       "    <tr>\n",
       "      <td>2019-12-26</td>\n",
       "      <td>322.94</td>\n",
       "      <td>317.999298</td>\n",
       "      <td>4.940702</td>\n",
       "      <td>1.53%</td>\n",
       "    </tr>\n",
       "    <tr>\n",
       "      <td>2019-12-27</td>\n",
       "      <td>322.86</td>\n",
       "      <td>318.529572</td>\n",
       "      <td>4.330428</td>\n",
       "      <td>1.34%</td>\n",
       "    </tr>\n",
       "    <tr>\n",
       "      <td>2019-12-30</td>\n",
       "      <td>321.08</td>\n",
       "      <td>319.018585</td>\n",
       "      <td>2.061415</td>\n",
       "      <td>0.64%</td>\n",
       "    </tr>\n",
       "    <tr>\n",
       "      <td>2019-12-31</td>\n",
       "      <td>321.86</td>\n",
       "      <td>319.254395</td>\n",
       "      <td>2.605605</td>\n",
       "      <td>0.81%</td>\n",
       "    </tr>\n",
       "  </tbody>\n",
       "</table>\n",
       "<p>62 rows × 4 columns</p>\n",
       "</div>"
      ],
      "text/plain": [
       "             close  Predictions  difference difference_pct\n",
       "date                                                      \n",
       "2019-10-03  290.42   296.770233   -6.350233         -2.19%\n",
       "2019-10-04  294.35   295.727753   -1.377753         -0.47%\n",
       "2019-10-07  293.08   295.237762   -2.157762         -0.74%\n",
       "2019-10-08  288.53   294.918243   -6.388243         -2.21%\n",
       "2019-10-09  291.27   294.261261   -2.991261         -1.03%\n",
       "...            ...          ...         ...            ...\n",
       "2019-12-24  321.23   317.548462    3.681538          1.15%\n",
       "2019-12-26  322.94   317.999298    4.940702          1.53%\n",
       "2019-12-27  322.86   318.529572    4.330428          1.34%\n",
       "2019-12-30  321.08   319.018585    2.061415          0.64%\n",
       "2019-12-31  321.86   319.254395    2.605605          0.81%\n",
       "\n",
       "[62 rows x 4 columns]"
      ]
     },
     "execution_count": 70,
     "metadata": {},
     "output_type": "execute_result"
    }
   ],
   "source": [
    "valid['difference'] = valid['close'] - valid['Predictions']\n",
    "valid['difference_pct'] = valid['difference']/valid['close']\n",
    "valid['difference_pct'] = valid['difference_pct'].map(\"{:.2%}\".format)\n",
    "valid"
   ]
  },
  {
   "cell_type": "code",
   "execution_count": 73,
   "metadata": {},
   "outputs": [],
   "source": [
    "valid.to_csv('spy_predictions_lstm.csv')"
   ]
  },
  {
   "cell_type": "code",
   "execution_count": 75,
   "metadata": {},
   "outputs": [],
   "source": [
    "# #Get the quote\n",
    "# spy_quote = web.DataReader('SPY', data_source='yahoo', start='2019-11-27', end='2020-01-10')\n",
    "# #Create a new dataframe\n",
    "# new_df = spy_quote.filter(['Close'])\n",
    "# #Get teh last 60 day closing price values and convert the dataframe to an array\n",
    "# last_60_days = new_df[-60:].values\n",
    "# #Scale the data to be values between 0 and 1\n",
    "# last_60_days_scaled = scaler.transform(last_60_days)\n",
    "# #Create an empty list\n",
    "# X_test = []\n",
    "# #Append teh past 60 days\n",
    "# X_test.append(last_60_days_scaled)\n",
    "# #Convert the X_test data set to a numpy array\n",
    "# X_test = np.array(X_test)\n",
    "# #Reshape the data\n",
    "# X_test = np.reshape(X_test, (X_test.shape[0], X_test.shape[1], 1))\n",
    "# #Get the predicted scaled price\n",
    "# pred_price = model.predict(X_test)\n",
    "# #undo the scaling \n",
    "# pred_price = scaler.inverse_transform(pred_price)\n",
    "# print(pred_price)"
   ]
  },
  {
   "cell_type": "code",
   "execution_count": 76,
   "metadata": {},
   "outputs": [],
   "source": [
    "# spy_quote2 = web.DataReader('SPY', data_source='yahoo', start='2019-11-27', end='2020-01-10')\n",
    "# print(spy_quote2['Close'])"
   ]
  },
  {
   "cell_type": "code",
   "execution_count": null,
   "metadata": {},
   "outputs": [],
   "source": []
  }
 ],
 "metadata": {
  "kernelspec": {
   "display_name": "Python [conda env:PandaSpace]",
   "language": "python",
   "name": "conda-env-PandaSpace-py"
  },
  "language_info": {
   "codemirror_mode": {
    "name": "ipython",
    "version": 3
   },
   "file_extension": ".py",
   "mimetype": "text/x-python",
   "name": "python",
   "nbconvert_exporter": "python",
   "pygments_lexer": "ipython3",
   "version": "3.6.9"
  }
 },
 "nbformat": 4,
 "nbformat_minor": 2
}
